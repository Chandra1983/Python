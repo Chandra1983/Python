{
 "cells": [
  {
   "cell_type": "code",
   "execution_count": 29,
   "metadata": {},
   "outputs": [
    {
     "data": {
      "text/plain": [
       "[{'name': 'Laut', 'rating': 8.1},\n",
       " {'name': 'Ootoya', 'rating': 8.0},\n",
       " {'name': ' Burger& Lobster', 'rating': 7.2},\n",
       " {'name': 'Chipotle', 'rating': 6.6}]"
      ]
     },
     "execution_count": 29,
     "metadata": {},
     "output_type": "execute_result"
    }
   ],
   "source": [
    "dict_o_restaurant = [{'name': 'Ootoya' , 'rating': 8.0} , \n",
    "                     {'name' :'Chipotle','rating':6.6} , \n",
    "                     {'name' : ' Burger& Lobster' , 'rating': 7.2},\n",
    "                    {'name' : 'Laut' , 'rating': 8.1}\n",
    "                     ]\n",
    "def res(x):\n",
    "    return x['rating']\n",
    "sorted(dict_o_restaurant,key=res,reverse=True)               \n",
    "                                       "
   ]
  },
  {
   "cell_type": "code",
   "execution_count": null,
   "metadata": {},
   "outputs": [],
   "source": []
  }
 ],
 "metadata": {
  "kernelspec": {
   "display_name": "Python 3",
   "language": "python",
   "name": "python3"
  },
  "language_info": {
   "codemirror_mode": {
    "name": "ipython",
    "version": 3
   },
   "file_extension": ".py",
   "mimetype": "text/x-python",
   "name": "python",
   "nbconvert_exporter": "python",
   "pygments_lexer": "ipython3",
   "version": "3.6.4"
  }
 },
 "nbformat": 4,
 "nbformat_minor": 2
}
