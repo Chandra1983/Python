{
 "cells": [
  {
   "cell_type": "code",
   "execution_count": 4,
   "metadata": {},
   "outputs": [
    {
     "name": "stdout",
     "output_type": "stream",
     "text": [
      "odd:25\n"
     ]
    }
   ],
   "source": []
  },
  {
   "cell_type": "code",
   "execution_count": 3,
   "metadata": {},
   "outputs": [
    {
     "name": "stdout",
     "output_type": "stream",
     "text": [
      "enter the userid:10001\n",
      "We are in experimental group\n"
     ]
    }
   ],
   "source": [
    "user_id = int(input(\"enter the userid:\"))\n",
    "\n",
    "def user_in_experiment(number):\n",
    "    \n",
    "    if number%2==1:\n",
    "        print (\"We are in experimental group\")\n",
    "    else:\n",
    "        print (\"We are in control group\")\n",
    "\n",
    "user_in_experiment(user_id)\n"
   ]
  },
  {
   "cell_type": "code",
   "execution_count": 1,
   "metadata": {},
   "outputs": [
    {
     "name": "stdout",
     "output_type": "stream",
     "text": [
      "enter the userid:1000\n",
      "We are in control group\n"
     ]
    }
   ],
   "source": [
    "number = int(input(\"enter the userid:\"))\n",
    "\n",
    "def user_in_experiment(number):\n",
    "    \n",
    "    if number%2==1:\n",
    "        print (\"We are in experimental group\")\n",
    "    else:\n",
    "        print (\"We are in control group\")\n",
    "\n",
    "user_in_experiment(number)"
   ]
  },
  {
   "cell_type": "code",
   "execution_count": null,
   "metadata": {},
   "outputs": [],
   "source": []
  }
 ],
 "metadata": {
  "kernelspec": {
   "display_name": "Python 3",
   "language": "python",
   "name": "python3"
  },
  "language_info": {
   "codemirror_mode": {
    "name": "ipython",
    "version": 3
   },
   "file_extension": ".py",
   "mimetype": "text/x-python",
   "name": "python",
   "nbconvert_exporter": "python",
   "pygments_lexer": "ipython3",
   "version": "3.6.4"
  }
 },
 "nbformat": 4,
 "nbformat_minor": 2
}
