{
 "cells": [
  {
   "cell_type": "code",
   "execution_count": 26,
   "metadata": {},
   "outputs": [
    {
     "name": "stdout",
     "output_type": "stream",
     "text": [
      "Enter the restaurant name:Dig Inn\n",
      "\n",
      "Dig Inn\n"
     ]
    }
   ],
   "source": [
    "lists = [\"Laut\", \"Rosa Mexicano\", \"Ootoya\", \"Dig Inn\"]\n",
    "restaurant_name = str(input(\"Enter the restaurant name:\"))\n",
    "def get_popular_restaurants(restaurant_name):\n",
    "    for list in lists:\n",
    "        if(restaurant_name ==list):\n",
    "            print(list)\n",
    "print()       \n",
    "get_popular_restaurants(restaurant_name)"
   ]
  },
  {
   "cell_type": "code",
   "execution_count": null,
   "metadata": {},
   "outputs": [],
   "source": []
  }
 ],
 "metadata": {
  "kernelspec": {
   "display_name": "Python 3",
   "language": "python",
   "name": "python3"
  },
  "language_info": {
   "codemirror_mode": {
    "name": "ipython",
    "version": 3
   },
   "file_extension": ".py",
   "mimetype": "text/x-python",
   "name": "python",
   "nbconvert_exporter": "python",
   "pygments_lexer": "ipython3",
   "version": "3.6.4"
  }
 },
 "nbformat": 4,
 "nbformat_minor": 2
}
